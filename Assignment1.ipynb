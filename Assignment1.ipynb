{
 "cells": [
  {
   "cell_type": "code",
   "execution_count": 1,
   "metadata": {},
   "outputs": [
    {
     "name": "stdout",
     "output_type": "stream",
     "text": [
      "[2002, 2009, 2016, 2023, 2037, 2044, 2051, 2058, 2072, 2079, 2086, 2093, 2107, 2114, 2121, 2128, 2142, 2149, 2156, 2163, 2177, 2184, 2191, 2198, 2212, 2219, 2226, 2233, 2247, 2254, 2261, 2268, 2282, 2289, 2296, 2303, 2317, 2324, 2331, 2338, 2352, 2359, 2366, 2373, 2387, 2394, 2401, 2408, 2422, 2429, 2436, 2443, 2457, 2464, 2471, 2478, 2492, 2499, 2506, 2513, 2527, 2534, 2541, 2548, 2562, 2569, 2576, 2583, 2597, 2604, 2611, 2618, 2632, 2639, 2646, 2653, 2667, 2674, 2681, 2688, 2702, 2709, 2716, 2723, 2737, 2744, 2751, 2758, 2772, 2779, 2786, 2793, 2807, 2814, 2821, 2828, 2842, 2849, 2856, 2863, 2877, 2884, 2891, 2898, 2912, 2919, 2926, 2933, 2947, 2954, 2961, 2968, 2982, 2989, 2996]\n"
     ]
    }
   ],
   "source": [
    "#Task1_Question2\n",
    "\n",
    "outputList=[];\n",
    "#i=0;\n",
    "for i in range(2000,3001):\n",
    "    if(i%7==0) and (i%5 != 0):\n",
    "        outputList.append(i);\n",
    "        \n",
    "print(outputList);\n",
    "        \n"
   ]
  },
  {
   "cell_type": "code",
   "execution_count": 2,
   "metadata": {},
   "outputs": [
    {
     "name": "stdout",
     "output_type": "stream",
     "text": [
      "Enter First Name: Mayank\n",
      "Enter Last NameKsfsf\n",
      "fsfsK knayaM\n"
     ]
    }
   ],
   "source": [
    "#Task1_Question3\n",
    "\n",
    "firstName=input(\"Enter First Name: \");\n",
    "lastName=input(\"Enter Last Name\");\n",
    "\n",
    "fullName=firstName + \" \"+lastName;\n",
    "print(fullName[::-1])"
   ]
  },
  {
   "cell_type": "code",
   "execution_count": 4,
   "metadata": {},
   "outputs": [
    {
     "name": "stdout",
     "output_type": "stream",
     "text": [
      "678.24\n"
     ]
    }
   ],
   "source": [
    "#Task1_Question4\n",
    "diameter=12\n",
    "radius=diameter/2\n",
    "pie=3.14\n",
    "volume=pie*(radius)*(radius)*(radius);\n",
    "print(volume);\n"
   ]
  },
  {
   "cell_type": "code",
   "execution_count": 5,
   "metadata": {},
   "outputs": [
    {
     "name": "stdout",
     "output_type": "stream",
     "text": [
      "Enter comma separated number1,2,34,5,6,78,9\n",
      "['1', '2', '34', '5', '6', '78', '9']\n"
     ]
    }
   ],
   "source": [
    "#Task2_Question1\n",
    "\n",
    "userInput=input(\"Enter comma separated number\");\n",
    "list1=userInput.split(\",\");\n",
    "print(list1);\n"
   ]
  },
  {
   "cell_type": "code",
   "execution_count": 6,
   "metadata": {},
   "outputs": [
    {
     "name": "stdout",
     "output_type": "stream",
     "text": [
      "* \n",
      "** \n",
      "*** \n",
      "**** \n",
      "***** \n",
      "**** \n",
      "*** \n",
      "** \n",
      "* \n",
      "\n"
     ]
    }
   ],
   "source": [
    "#Task2_question2\n",
    "\n",
    "for i in range(1,11):\n",
    "    for j in range(1,6):\n",
    "        if i<6:\n",
    "            if(i==j):\n",
    "                print(i * \"*\",end=\" \");\n",
    "        if i>= 6:\n",
    "            if(j== 10-i):\n",
    "                print(j * \"*\",end=\" \");\n",
    "    print();"
   ]
  },
  {
   "cell_type": "code",
   "execution_count": 1,
   "metadata": {},
   "outputs": [
    {
     "name": "stdout",
     "output_type": "stream",
     "text": [
      "Enter a wordMayank\n",
      "knayaM\n"
     ]
    }
   ],
   "source": [
    "#Task2_Question3\n",
    "\n",
    "userInput=input(\"Enter a word\")\n",
    "print(userInput[::-1])"
   ]
  },
  {
   "cell_type": "code",
   "execution_count": 19,
   "metadata": {},
   "outputs": [
    {
     "name": "stdout",
     "output_type": "stream",
     "text": [
      "WE THE PEOPLE OF INDIA,\n",
      "\t  having solemnly resolved to constitute India into a SOVEREIGN!,\n",
      "\t\t SOCIALIST SECULAR DEMOCRATIC REPUBLIC and\n",
      "\t\t to secure to all its citizens\n"
     ]
    }
   ],
   "source": [
    "#Task2_Question4\n",
    "\n",
    "inputString=\"WE, THE PEOPLE OF INDIA, having solemnly resolved to constitute India into a SOVEREIGN, SOCIALIST, SECULAR, DEMOCRATIC REPUBLIC and to secure to all its citizens\"\n",
    "list1=inputString.split(\",\");\n",
    "list2=list1[5].split(\"and\");\n",
    "\n",
    "print(list1[0]+list1[1] +\",\"+\"\\n\" + \"\\t \"+list1[2] + \"!,\" +\"\\n\" +\"\\t\" +\"\\t\" +list1[3] +list1[4]+list2[0] + \"and\"+ \"\\n\"+ \"\\t\" + \"\\t\" +list2[1])"
   ]
  },
  {
   "cell_type": "code",
   "execution_count": null,
   "metadata": {},
   "outputs": [],
   "source": []
  }
 ],
 "metadata": {
  "kernelspec": {
   "display_name": "Python 3",
   "language": "python",
   "name": "python3"
  },
  "language_info": {
   "codemirror_mode": {
    "name": "ipython",
    "version": 3
   },
   "file_extension": ".py",
   "mimetype": "text/x-python",
   "name": "python",
   "nbconvert_exporter": "python",
   "pygments_lexer": "ipython3",
   "version": "3.7.4"
  }
 },
 "nbformat": 4,
 "nbformat_minor": 2
}
