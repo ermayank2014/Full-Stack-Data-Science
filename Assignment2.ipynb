{
 "cells": [
  {
   "cell_type": "markdown",
   "metadata": {},
   "source": [
    "# Task 1 Question1.1"
   ]
  },
  {
   "cell_type": "code",
   "execution_count": 17,
   "metadata": {},
   "outputs": [
    {
     "name": "stdout",
     "output_type": "stream",
     "text": [
      "28\n"
     ]
    }
   ],
   "source": [
    "lst=[1,2,3,4,5,6,7]\n",
    "\n",
    "def fnc(a,b):\n",
    "    return a+b;\n",
    "def myreduce(fnc,lst):\n",
    "    if(len(lst)==0):\n",
    "        return None\n",
    "    if(len(lst)==1):\n",
    "        return lst[0]\n",
    "    else:    \n",
    "        a=lst[0]\n",
    "        for i in range(0,len(lst)-1):\n",
    "            a=fnc(a,lst[i+1])\n",
    "        return a\n",
    "            \n",
    "    \n",
    "print(myreduce(fnc,lst));\n",
    "    "
   ]
  },
  {
   "cell_type": "markdown",
   "metadata": {},
   "source": [
    "# Task 1 Question 1.2"
   ]
  },
  {
   "cell_type": "code",
   "execution_count": 2,
   "metadata": {},
   "outputs": [
    {
     "data": {
      "text/plain": [
       "[2, 4, 6, 8, 10]"
      ]
     },
     "execution_count": 2,
     "metadata": {},
     "output_type": "execute_result"
    }
   ],
   "source": [
    "def even_check(num):\n",
    "    if num%2 ==0:\n",
    "        return True\n",
    "\n",
    "\n",
    "def myfilter(fnc,lst):\n",
    "    list1 = []\n",
    "    for i in lst:\n",
    "        if(fnc(i)):\n",
    "            list1.append(i)\n",
    "    return list1;\n",
    "\n",
    "lst=[1,2,3,4,5,6,7,8,9,10]\n",
    "list(myfilter(even_check,lst))\n",
    "    "
   ]
  },
  {
   "cell_type": "markdown",
   "metadata": {},
   "source": [
    "# Task 1 Question 2"
   ]
  },
  {
   "cell_type": "code",
   "execution_count": 36,
   "metadata": {},
   "outputs": [
    {
     "name": "stdout",
     "output_type": "stream",
     "text": [
      "['A', 'C', 'A', 'G', 'I', 'L', 'D']\n",
      "['x', 'xx', 'xxx', 'xxxx', 'y', 'yy', 'yyy', 'yyyy', 'z', 'zz', 'zzz', 'zzzz']\n",
      "['x', 'y', 'z', 'xx', 'yy', 'zz', 'xxx', 'yyy', 'zzz', 'xxxx', 'yyyy', 'zzzz']\n",
      "[[2], [3], [4], [3], [4], [5], [4], [5], [6]]\n",
      "[[2, 3, 4, 5], [3, 4, 5, 6], [4, 5, 6, 7], [5, 6, 7, 8]]\n",
      "[(1, 1), (1, 2), (1, 3), (2, 1), (2, 2), (2, 3), (3, 1), (3, 2), (3, 3)]\n"
     ]
    }
   ],
   "source": [
    "string=\"ACAGILD\"\n",
    "lst=[i for i in string]\n",
    "print(lst)\n",
    "\n",
    "list2=['x','y','z']\n",
    "second=[i*num for i in list2 for num in range(1,5)]\n",
    "print(second)\n",
    "\n",
    "third=[i*item for i in range(1,5) for item in list2]\n",
    "print(third)\n",
    "\n",
    "list4=[2,3,4]\n",
    "fourth=[[i+num] for i in list4 for num in range(0,3) ]\n",
    "print(fourth)\n",
    "\n",
    "list5=[2,3,4,5]\n",
    "fifth=[[i+num for i in list5] for num in range(0,4) ]\n",
    "print(fifth)\n",
    "\n",
    "list6=(1,2,3)\n",
    "sixth=[(i,num) for i in list6 for num in range(1,4)]\n",
    "print(sixth)"
   ]
  },
  {
   "cell_type": "code",
   "execution_count": null,
   "metadata": {},
   "outputs": [],
   "source": []
  },
  {
   "cell_type": "markdown",
   "metadata": {},
   "source": [
    "# Task 1 Question 3"
   ]
  },
  {
   "cell_type": "code",
   "execution_count": 24,
   "metadata": {},
   "outputs": [
    {
     "name": "stdout",
     "output_type": "stream",
     "text": [
      "Intelligent\n"
     ]
    }
   ],
   "source": [
    "lst_words=['mayank','is','very','Intelligent','Heroo']\n",
    "def longestWord(lst):\n",
    "    length=len(lst[0]);\n",
    "    long_word=lst[0]\n",
    "    for i in range(1,len(lst)):\n",
    "        if length >= len(lst[i]):\n",
    "            pass;\n",
    "        else:\n",
    "            length=len(lst[i])\n",
    "            long_word=lst[i]\n",
    "    print(long_word);\n",
    "    \n",
    "\n",
    "longestWord(lst_words)\n",
    "\n",
    "\n",
    "        \n",
    "def __init__(self):\n",
    "        self.side = 0;"
   ]
  },
  {
   "cell_type": "markdown",
   "metadata": {},
   "source": [
    "# Task 2 Question 1.1 "
   ]
  },
  {
   "cell_type": "code",
   "execution_count": 60,
   "metadata": {},
   "outputs": [
    {
     "name": "stdout",
     "output_type": "stream",
     "text": [
      "Enter side 1 : 3\n",
      "Enter side 2 : 4\n",
      "Enter side 3 : 5\n",
      "The area of the triangle is 6.00\n"
     ]
    }
   ],
   "source": [
    "class Polygon:\n",
    "    def __init__(self, no_of_sides):\n",
    "        self.n = no_of_sides\n",
    "        self.sides = [0 for i in range(no_of_sides)]\n",
    "    def inputSides(self):\n",
    "        self.sides = [float(input(\"Enter side \"+str(i+1)+\" : \")) for i in range(self.n)]\n",
    "    def dispSides(self):\n",
    "        for i in range(self.n):\n",
    "            print(\"Side\",i+1,\"is\",self.sides[i])\n",
    "\n",
    "            \n",
    "class Triangle(Polygon):\n",
    "    def __init__(self):\n",
    "        Polygon.__init__(self,3)\n",
    "    def findArea(self):\n",
    "        a, b, c = self.sides\n",
    "        # calculate the semi-perimeter\n",
    "        s = (a + b + c) / 2\n",
    "        area = (s*(s-a)*(s-b)*(s-c)) ** 0.5\n",
    "        print('The area of the triangle is %0.2f' %area)\n",
    "        \n",
    "t = Triangle()\n",
    "t.inputSides()\n",
    "t.findArea()\n",
    "        \n",
    "    \n",
    "        "
   ]
  },
  {
   "cell_type": "markdown",
   "metadata": {},
   "source": [
    "# Task2 Question1.2"
   ]
  },
  {
   "cell_type": "code",
   "execution_count": null,
   "metadata": {},
   "outputs": [],
   "source": [
    "lst_words=['mayank','is','very','Intelligent','Heroo']\n",
    "\n",
    "def filter_long_words(lst,n):\n",
    "    new_list=[]\n",
    "    for i in range(0,len(lst)):\n",
    "        if len(lst[i]) > n:\n",
    "            new_list.append(lst[i]);\n",
    "    return new_list\n",
    "\n",
    "print(filter_long_words(lst_words,6))\n",
    "    "
   ]
  },
  {
   "cell_type": "markdown",
   "metadata": {},
   "source": [
    "# Task 2 Question 2.1"
   ]
  },
  {
   "cell_type": "code",
   "execution_count": 43,
   "metadata": {},
   "outputs": [
    {
     "name": "stdout",
     "output_type": "stream",
     "text": [
      "[2, 3, 4]\n"
     ]
    }
   ],
   "source": [
    "list7=[ 'ab','cde','erty']\n",
    "\n",
    "def Count(e):\n",
    "    return len(e)\n",
    "\n",
    "\n",
    "def map_func(Count,list7):\n",
    "    list8=[]\n",
    "    for i in list7 :\n",
    "        list8.append(Count(i))\n",
    "    return (list8)\n",
    "\n",
    "mapped_list=map_func(Count,list7)\n",
    "\n",
    "print(mapped_list)\n",
    "\n",
    "\n",
    "\n",
    "    \n"
   ]
  },
  {
   "cell_type": "markdown",
   "metadata": {},
   "source": [
    "# Task2 Question 2.2"
   ]
  },
  {
   "cell_type": "code",
   "execution_count": 33,
   "metadata": {},
   "outputs": [
    {
     "name": "stdout",
     "output_type": "stream",
     "text": [
      "True\n"
     ]
    }
   ],
   "source": [
    "vowel=['a','e','i','o','u']\n",
    "\n",
    "def check_vowel(char):\n",
    "    if char.lower() in vowel:\n",
    "        return True\n",
    "    else:\n",
    "        return False\n",
    "\n",
    "print(check_vowel('a'))\n",
    "    "
   ]
  },
  {
   "cell_type": "code",
   "execution_count": null,
   "metadata": {},
   "outputs": [],
   "source": []
  }
 ],
 "metadata": {
  "kernelspec": {
   "display_name": "Python 3",
   "language": "python",
   "name": "python3"
  },
  "language_info": {
   "codemirror_mode": {
    "name": "ipython",
    "version": 3
   },
   "file_extension": ".py",
   "mimetype": "text/x-python",
   "name": "python",
   "nbconvert_exporter": "python",
   "pygments_lexer": "ipython3",
   "version": "3.7.4"
  }
 },
 "nbformat": 4,
 "nbformat_minor": 2
}
